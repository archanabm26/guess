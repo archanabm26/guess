{
 "cells": [
  {
   "cell_type": "code",
   "execution_count": 6,
   "id": "b073f5c6",
   "metadata": {},
   "outputs": [
    {
     "name": "stdout",
     "output_type": "stream",
     "text": [
      "This is a guessing game. You have to guess a number between 1 and 10.\n",
      "Enter your guess: 1\n",
      "Guess a greater number.\n",
      "Enter your guess: 2\n",
      "Guess a greater number.\n",
      "Enter your guess: 7\n",
      "Guess a lesser number.\n",
      "Enter your guess: 8\n",
      "Guess a lesser number.\n",
      "Enter your guess: 6\n",
      "Congrats! You guessed correctly.\n"
     ]
    }
   ],
   "source": [
    "class myexception(Exception):\n",
    "    def __init__(self, args):\n",
    "        self.msg = args\n",
    "\n",
    "    def __str__(self):\n",
    "        return self.msg\n",
    "\n",
    "\n",
    "import random\n",
    "\n",
    "n = random.randint(1, 10)\n",
    "print(\"This is a guessing game. You have to guess a number between 1 and 10.\")\n",
    "\n",
    "while True:\n",
    "    try:\n",
    "        g = int(input(\"Enter your guess: \"))\n",
    "        if g < 1 or g > 10:\n",
    "            raise myexception(\"Guess a number between 1 and 10.\")\n",
    "        elif g == n:\n",
    "            raise myexception(\"Congrats! You guessed correctly.\")\n",
    "        elif g < n:\n",
    "            raise myexception(\"Guess a greater number.\")\n",
    "        else:\n",
    "            raise myexception(\"Guess a lesser number.\")\n",
    "    except myexception as obj:\n",
    "        print(obj)\n",
    "        if obj.msg == \"Congrats! You guessed correctly.\":\n",
    "            break\n",
    "    except ValueError:\n",
    "        print(\"Please enter a valid integer.\")"
   ]
  },
  {
   "cell_type": "code",
   "execution_count": null,
   "id": "46a3e37e",
   "metadata": {},
   "outputs": [],
   "source": []
  }
 ],
 "metadata": {
  "kernelspec": {
   "display_name": "Python 3 (ipykernel)",
   "language": "python",
   "name": "python3"
  },
  "language_info": {
   "codemirror_mode": {
    "name": "ipython",
    "version": 3
   },
   "file_extension": ".py",
   "mimetype": "text/x-python",
   "name": "python",
   "nbconvert_exporter": "python",
   "pygments_lexer": "ipython3",
   "version": "3.9.12"
  }
 },
 "nbformat": 4,
 "nbformat_minor": 5
}
